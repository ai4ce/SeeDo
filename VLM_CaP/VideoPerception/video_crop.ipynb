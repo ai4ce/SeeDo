{
 "cells": [
  {
   "cell_type": "code",
   "execution_count": 10,
   "id": "6a98dde8",
   "metadata": {},
   "outputs": [],
   "source": [
    "# 在 Jupyter Notebook 中\n",
    "import sys\n",
    "sys.path.append('src')  # 确保可以从 src 目录导入\n",
    "\n",
    "from video_cropper import crop_video_to_video\n",
    "\n",
    "# 视频路径和裁剪参数\n",
    "video_path = 'media/HumanDemo/RGYPC_Ca2.mp4'\n",
    "x, y, w, h = 400, 200, 400, 400  # 调整裁剪区域的参数\n",
    "output_path = 'media/HumanDemo/RGYPC_Cropped_Ca2.mp4'\n",
    "\n",
    "crop_video_to_video(video_path, x, y, w, h, output_path)\n",
    "\n"
   ]
  },
  {
   "cell_type": "code",
   "execution_count": null,
   "id": "55bcec7b",
   "metadata": {},
   "outputs": [],
   "source": []
  }
 ],
 "metadata": {
  "kernelspec": {
   "display_name": "Python 3 (ipykernel)",
   "language": "python",
   "name": "python3"
  },
  "language_info": {
   "codemirror_mode": {
    "name": "ipython",
    "version": 3
   },
   "file_extension": ".py",
   "mimetype": "text/x-python",
   "name": "python",
   "nbconvert_exporter": "python",
   "pygments_lexer": "ipython3",
   "version": "3.9.13"
  }
 },
 "nbformat": 4,
 "nbformat_minor": 5
}
